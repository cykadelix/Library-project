{
  "nbformat": 4,
  "nbformat_minor": 0,
  "metadata": {
    "colab": {
      "provenance": [],
      "machine_shape": "hm",
      "gpuType": "V100",
      "mount_file_id": "1by_dP3UMw3YKAHQGpG0fsLr10Bx3_PpU",
      "authorship_tag": "ABX9TyM+ASreMFav08BgfJQYJP8M",
      "include_colab_link": true
    },
    "kernelspec": {
      "name": "python3",
      "display_name": "Python 3"
    },
    "language_info": {
      "name": "python"
    },
    "accelerator": "GPU"
  },
  "cells": [
    {
      "cell_type": "markdown",
      "metadata": {
        "id": "view-in-github",
        "colab_type": "text"
      },
      "source": [
        "<a href=\"https://colab.research.google.com/github/cykadelix/Library-project/blob/master/CNN.ipynb\" target=\"_parent\"><img src=\"https://colab.research.google.com/assets/colab-badge.svg\" alt=\"Open In Colab\"/></a>"
      ]
    },
    {
      "cell_type": "code",
      "execution_count": 1,
      "metadata": {
        "id": "vJwDcAT-Qmle"
      },
      "outputs": [],
      "source": [
        "import os\n",
        "from PIL import Image\n",
        "import pandas as pd\n",
        "import numpy as np\n",
        "import tensorflow as tf\n",
        "\n",
        "from tensorflow import keras\n",
        "from keras.models import Sequential\n",
        "from keras.layers import Conv2D, MaxPooling2D, Flatten, Dense, Dropout, BatchNormalization\n",
        "from keras.preprocessing.image import ImageDataGenerator\n"
      ]
    },
    {
      "cell_type": "code",
      "source": [
        "!nvidia-smi"
      ],
      "metadata": {
        "colab": {
          "base_uri": "https://localhost:8080/"
        },
        "id": "WjRbrLVGshoO",
        "outputId": "b710db47-7c8f-4d3e-f25d-96b4eba36edd"
      },
      "execution_count": 2,
      "outputs": [
        {
          "output_type": "stream",
          "name": "stdout",
          "text": [
            "Tue Nov 28 06:51:13 2023       \n",
            "+-----------------------------------------------------------------------------+\n",
            "| NVIDIA-SMI 525.105.17   Driver Version: 525.105.17   CUDA Version: 12.0     |\n",
            "|-------------------------------+----------------------+----------------------+\n",
            "| GPU  Name        Persistence-M| Bus-Id        Disp.A | Volatile Uncorr. ECC |\n",
            "| Fan  Temp  Perf  Pwr:Usage/Cap|         Memory-Usage | GPU-Util  Compute M. |\n",
            "|                               |                      |               MIG M. |\n",
            "|===============================+======================+======================|\n",
            "|   0  Tesla V100-SXM2...  Off  | 00000000:00:04.0 Off |                    0 |\n",
            "| N/A   33C    P0    25W / 300W |      0MiB / 16384MiB |      0%      Default |\n",
            "|                               |                      |                  N/A |\n",
            "+-------------------------------+----------------------+----------------------+\n",
            "                                                                               \n",
            "+-----------------------------------------------------------------------------+\n",
            "| Processes:                                                                  |\n",
            "|  GPU   GI   CI        PID   Type   Process name                  GPU Memory |\n",
            "|        ID   ID                                                   Usage      |\n",
            "|=============================================================================|\n",
            "|  No running processes found                                                 |\n",
            "+-----------------------------------------------------------------------------+\n"
          ]
        }
      ]
    },
    {
      "cell_type": "code",
      "source": [
        "train_folder = '/content/drive/MyDrive/chest_xray/train'\n",
        "test_folder = '/content/drive/MyDrive/chest_xray/test'\n",
        "validation_folder = '/content/drive/MyDrive/chest_xray/val'\n",
        "\n",
        "# Data augmentation for the training set\n",
        "train_datagen = ImageDataGenerator(\n",
        "    rescale=1./255,\n",
        "    shear_range=0.2,\n",
        "    zoom_range=0.2,\n",
        "    horizontal_flip=True\n",
        ")\n",
        "\n",
        "# Data augmentation for the validation set\n",
        "validation_datagen = ImageDataGenerator(\n",
        "    rescale=1./255,\n",
        "    shear_range=0.2,\n",
        "    zoom_range=0.2,\n",
        "    horizontal_flip=True\n",
        ")\n",
        "\n",
        "# Data augmentation for the test set (CHANGE FOR FUTURE TESTS)\n",
        "test_datagen = ImageDataGenerator(\n",
        "    rescale=1./255,\n",
        ")\n",
        "\n",
        "# Define batch size and image dimensions\n",
        "batch_size = 32\n",
        "img_height, img_width = 224, 224\n",
        "\n",
        "# Create data generators\n",
        "train_generator = train_datagen.flow_from_directory(\n",
        "    train_folder,\n",
        "    target_size=(img_height, img_width),\n",
        "    batch_size=batch_size,\n",
        "    class_mode='binary'\n",
        ")\n",
        "\n",
        "test_generator = test_datagen.flow_from_directory(\n",
        "    test_folder,\n",
        "    target_size=(img_height, img_width),\n",
        "    batch_size=batch_size,\n",
        "    class_mode='binary'\n",
        ")\n",
        "\n",
        "validation_generator = validation_datagen.flow_from_directory(\n",
        "    validation_folder,\n",
        "    target_size=(img_height, img_width),\n",
        "    batch_size=batch_size,\n",
        "    class_mode='binary'\n",
        ")"
      ],
      "metadata": {
        "colab": {
          "base_uri": "https://localhost:8080/"
        },
        "id": "21k6hb9ORNQH",
        "outputId": "87e354bb-36a9-4ce7-e547-d4e2286791f7"
      },
      "execution_count": 11,
      "outputs": [
        {
          "output_type": "stream",
          "name": "stdout",
          "text": [
            "Found 5216 images belonging to 2 classes.\n",
            "Found 624 images belonging to 2 classes.\n",
            "Found 16 images belonging to 2 classes.\n"
          ]
        }
      ]
    },
    {
      "cell_type": "code",
      "source": [
        "model = Sequential([\n",
        "    Conv2D(32, (3, 3), activation='relu', input_shape=(img_height, img_width, 3)),\n",
        "    MaxPooling2D(2, 2),\n",
        "\n",
        "    Conv2D(64, (3, 3), activation='relu'),\n",
        "    MaxPooling2D(2, 2),\n",
        "\n",
        "    Conv2D(128, (3, 3), activation='relu'),\n",
        "    MaxPooling2D(2, 2),\n",
        "\n",
        "    Flatten(),\n",
        "    Dense(512, activation='relu'),\n",
        "     # Add a Dropout layer with a specified dropout rate (e.g., 0.5)\n",
        "    Dropout(0.5),\n",
        "    BatchNormalization(),\n",
        "\n",
        "    Dense(1, activation='sigmoid')  # Output layer for binary classification\n",
        "])"
      ],
      "metadata": {
        "id": "haphEX6HqV4J"
      },
      "execution_count": 4,
      "outputs": []
    },
    {
      "cell_type": "code",
      "source": [
        "# Custom loss function\n",
        "def focal_loss(gamma=2.0, alpha=0.25):\n",
        "    def focal_loss_function(y_true, y_pred):\n",
        "        epsilon = tf.keras.backend.epsilon()\n",
        "        y_pred = tf.clip_by_value(y_pred, epsilon, 1.0 - epsilon)\n",
        "\n",
        "        # Compute focal loss\n",
        "        loss = - alpha * (1 - y_pred)**gamma * y_true * tf.math.log(y_pred) \\\n",
        "               - (1 - alpha) * y_pred**gamma * (1 - y_true) * tf.math.log(1 - y_pred)\n",
        "\n",
        "        return tf.reduce_mean(loss)\n",
        "\n",
        "    return focal_loss_function"
      ],
      "metadata": {
        "id": "GMfc0MY7yN9j"
      },
      "execution_count": 7,
      "outputs": []
    },
    {
      "cell_type": "code",
      "source": [
        "custom_optimizer = keras.optimizers.Adam(learning_rate=0.01)\n",
        "\n",
        "model.compile(\n",
        "    loss=focal_loss(),\n",
        "    optimizer='adam',\n",
        "    metrics=['accuracy']\n",
        ")"
      ],
      "metadata": {
        "id": "1B0F-wU-qqr3"
      },
      "execution_count": 8,
      "outputs": []
    },
    {
      "cell_type": "code",
      "source": [
        "epochs = 10\n",
        "history = model.fit(\n",
        "    train_generator,\n",
        "    steps_per_epoch=len(train_generator), # batch_size,\n",
        "    validation_data=validation_generator,\n",
        "    validation_steps=len(validation_generator), # batch_size,\n",
        "    epochs=epochs\n",
        ")"
      ],
      "metadata": {
        "colab": {
          "base_uri": "https://localhost:8080/"
        },
        "id": "4TAQeCrwqw1n",
        "outputId": "062eed8b-a973-4f1c-a58f-973aa2910e81"
      },
      "execution_count": 9,
      "outputs": [
        {
          "output_type": "stream",
          "name": "stdout",
          "text": [
            "Epoch 1/10\n",
            "163/163 [==============================] - 103s 615ms/step - loss: 0.0319 - accuracy: 0.8932 - val_loss: 0.1876 - val_accuracy: 0.6875\n",
            "Epoch 2/10\n",
            "163/163 [==============================] - 100s 614ms/step - loss: 0.0259 - accuracy: 0.9011 - val_loss: 0.1176 - val_accuracy: 0.6250\n",
            "Epoch 3/10\n",
            "163/163 [==============================] - 100s 615ms/step - loss: 0.0257 - accuracy: 0.9013 - val_loss: 0.0589 - val_accuracy: 0.7500\n",
            "Epoch 4/10\n",
            "163/163 [==============================] - 97s 592ms/step - loss: 0.0272 - accuracy: 0.8930 - val_loss: 0.8700 - val_accuracy: 0.5000\n",
            "Epoch 5/10\n",
            "163/163 [==============================] - 96s 590ms/step - loss: 0.0265 - accuracy: 0.8934 - val_loss: 0.4770 - val_accuracy: 0.5000\n",
            "Epoch 6/10\n",
            "163/163 [==============================] - 96s 589ms/step - loss: 0.0242 - accuracy: 0.9055 - val_loss: 0.1542 - val_accuracy: 0.6875\n",
            "Epoch 7/10\n",
            "163/163 [==============================] - 95s 585ms/step - loss: 0.0268 - accuracy: 0.8938 - val_loss: 0.2954 - val_accuracy: 0.5625\n",
            "Epoch 8/10\n",
            "163/163 [==============================] - 95s 585ms/step - loss: 0.0250 - accuracy: 0.8995 - val_loss: 0.1585 - val_accuracy: 0.6875\n",
            "Epoch 9/10\n",
            "163/163 [==============================] - 97s 592ms/step - loss: 0.0234 - accuracy: 0.9032 - val_loss: 0.0743 - val_accuracy: 0.5625\n",
            "Epoch 10/10\n",
            "163/163 [==============================] - 97s 596ms/step - loss: 0.0294 - accuracy: 0.8775 - val_loss: 0.0852 - val_accuracy: 0.7500\n"
          ]
        }
      ]
    },
    {
      "cell_type": "code",
      "source": [
        "test_loss, test_accuracy = model.evaluate(test_generator, verbose=2)\n",
        "print(f\"Test accuracy: {test_accuracy}\")\n"
      ],
      "metadata": {
        "colab": {
          "base_uri": "https://localhost:8080/"
        },
        "id": "_QTAv35kuRdq",
        "outputId": "fe1ac920-18b9-48af-e65e-d546c5e23e86"
      },
      "execution_count": 12,
      "outputs": [
        {
          "output_type": "stream",
          "name": "stdout",
          "text": [
            "20/20 - 5s - loss: 0.0538 - accuracy: 0.8942 - 5s/epoch - 263ms/step\n",
            "Test accuracy: 0.8942307829856873\n"
          ]
        }
      ]
    },
    {
      "cell_type": "markdown",
      "source": [],
      "metadata": {
        "id": "0FmVro_YROCW"
      }
    }
  ]
}